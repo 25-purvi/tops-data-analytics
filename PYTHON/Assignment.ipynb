{
 "cells": [
  {
   "cell_type": "code",
   "execution_count": 17,
   "id": "6382d143-ac4f-45fd-ae9f-e8d4d9e3949b",
   "metadata": {},
   "outputs": [],
   "source": [
    "#1. What are the types of Applications?\n",
    "# 1. Web Applications\n",
    "# 2. Desktop GUI Applications\n",
    "# 3. Mobile Applications\n",
    "# 4. Game Development\n",
    "# 5. Data Science & ML Applications\n",
    "# 6. Automation/Scripting\n",
    "# 7. Web Scraping Applications\n",
    "# 8. loT & Embedded Systems"
   ]
  },
  {
   "cell_type": "code",
   "execution_count": 18,
   "id": "54dfaff1-23de-45c7-b7f6-b7449b7fab3b",
   "metadata": {},
   "outputs": [],
   "source": [
    "#2. WHAT IS PROGRAMMING?\n",
    "#Programming is the process of writing instructions for a computer to perform specific tasks. These instructions are written in a \n",
    "#programming language and help control the behavior and output of a computer. It involves logic, syntax, and problem-solving skills."
   ]
  },
  {
   "cell_type": "code",
   "execution_count": 19,
   "id": "65437f5c-f33e-4cac-b5f1-55ec13578181",
   "metadata": {},
   "outputs": [],
   "source": [
    "#3. WHAT IS PYTHON?\n",
    "#Python is a high-level, interpreted, and general-purpose programming language. It is known for its simple syntax, readability, and\n",
    "#large community support. Python is widely used in web development, automation, data analysis, artificial intelligence, machine learning,\n",
    "#and more."
   ]
  },
  {
   "cell_type": "code",
   "execution_count": 21,
   "id": "a91d061c-3589-4857-85f6-ac016a7afd64",
   "metadata": {},
   "outputs": [
    {
     "name": "stdin",
     "output_type": "stream",
     "text": [
      "Enter x value: 55\n"
     ]
    },
    {
     "name": "stdout",
     "output_type": "stream",
     "text": [
      "{x} is Positive\n"
     ]
    }
   ],
   "source": [
    "#4. WRITE A PYTHON PROGRAM TO CHECK IF A NUMBER IS POSITIVE, NEGATIVE or ZERO. \n",
    "x = int(input(\"Enter x value:\"))\n",
    "if x > 0 :\n",
    "    print(\"{x} is Positive\")\n",
    "elif x < 0 :\n",
    "    print(\"{x} is Negative\")\n",
    "else:\n",
    "    print(\"{x} is Zero\")"
   ]
  },
  {
   "cell_type": "code",
   "execution_count": 18,
   "id": "305c2fcb-efe8-43a7-8d5d-d5a880311cec",
   "metadata": {},
   "outputs": [
    {
     "name": "stdin",
     "output_type": "stream",
     "text": [
      "Enter y value: 4\n"
     ]
    },
    {
     "name": "stdout",
     "output_type": "stream",
     "text": [
      "The factorial of 4 is 24\n"
     ]
    }
   ],
   "source": [
    "#5. WRITE A PYTHON PROGRAM TO GET THE FACTORIAL NUMBER OF GIVEN NUMBERS.\n",
    "y = int(input(\"Enter y value:\"))\n",
    "if y < 0:\n",
    "    print(\"Factorial does not exist for negative numbers.\")\n",
    "elif y == 0:\n",
    "    print(\"The factorial of 0 is 1.\")\n",
    "else:\n",
    "    factorial = 1\n",
    "    for i in range(1, y + 1):\n",
    "        factorial *= i\n",
    "    print(f\"The factorial of {y} is {factorial}\")"
   ]
  },
  {
   "cell_type": "code",
   "execution_count": 1,
   "id": "527bcb13-f217-4e5b-87ca-6782870e9baf",
   "metadata": {},
   "outputs": [],
   "source": [
    "#6. Write a Python program to get the Fibonacci series of given range."
   ]
  },
  {
   "cell_type": "code",
   "execution_count": 2,
   "id": "055dcb34-961f-4065-aa2f-10a48d98a1ea",
   "metadata": {},
   "outputs": [],
   "source": [
    "#7. How memory is managed in Python?\n",
    "#Memory in Python is managed using:\n",
    "#Private Heap Space: All Python objects and data structures are stored in a private heap, managed internally by Python.\n",
    "#Memory Manager: Handles allocation of heap space for Python objects.\n",
    "#Garbage Collector: Automatically frees memory by removing objects that are no longer in use (using reference counting and cyclic garbage collection).\n",
    "#Dynamic Typing: Memory is allocated at runtime based on the variable type."
   ]
  },
  {
   "cell_type": "code",
   "execution_count": 3,
   "id": "1834bfc6-6230-4c39-b8c7-dd090e01f52f",
   "metadata": {},
   "outputs": [],
   "source": [
    "#8. What is the purpose continuing statement in python?\n",
    "# The continue statement is used inside loops to skip the rest of the code in the current iteration and jump to the next iteration of the loop.\n",
    "# To skip certain conditions inside a loop without exiting the entire loop. "
   ]
  },
  {
   "cell_type": "code",
   "execution_count": 5,
   "id": "96c9fd8a-e90d-4f5e-86df-8b5c620ad4d3",
   "metadata": {},
   "outputs": [
    {
     "name": "stdin",
     "output_type": "stream",
     "text": [
      "Enter first number (a):  45\n",
      "Enter second number (b):  85\n"
     ]
    },
    {
     "name": "stdout",
     "output_type": "stream",
     "text": [
      "\n",
      "Before swapping:\n",
      "a = 45 b = 85\n"
     ]
    },
    {
     "name": "stdin",
     "output_type": "stream",
     "text": [
      "Enter first number (a):  45\n",
      "Enter second number (b):  85\n"
     ]
    },
    {
     "name": "stdout",
     "output_type": "stream",
     "text": [
      "\n",
      "After swapping:\n",
      "a = 85 b = 45\n"
     ]
    }
   ],
   "source": [
    "#9. Write python program that swap two number with temp variable and without temp variable.\n",
    "#before swaping two number \n",
    "a = int(input(\"Enter first number (a): \"))\n",
    "b = int(input(\"Enter second number (b): \"))\n",
    "print(\"\\nBefore swapping:\")\n",
    "print(\"a =\", a , \"b =\" , b)\n",
    "\n",
    "#after swaping two number\n",
    "a = int(input(\"Enter first number (a): \"))\n",
    "b = int(input(\"Enter second number (b): \"))\n",
    "print(\"\\nAfter swapping:\")\n",
    "print(\"a =\", b , \"b =\" , a)"
   ]
  },
  {
   "cell_type": "code",
   "execution_count": 11,
   "id": "fb12f570-0abb-44cd-a661-aca765bffc82",
   "metadata": {},
   "outputs": [
    {
     "name": "stdin",
     "output_type": "stream",
     "text": [
      "Enter a Number: 65\n"
     ]
    },
    {
     "name": "stdout",
     "output_type": "stream",
     "text": [
      "65 The number you entered is odd.\n"
     ]
    }
   ],
   "source": [
    "#10. Write a Python program to find whether a given number is even or odd, print out an appropriate message to the user.\n",
    "x = int(input(\"Enter a Number:\"))\n",
    "if x % 2 == 0:\n",
    "    print(f\"{x} The number you entere is even.\")\n",
    "else:\n",
    "    print(f\"{x} The number you entered is odd.\")"
   ]
  },
  {
   "cell_type": "code",
   "execution_count": 2,
   "id": "b7a1fa37-3df4-4c7f-91c9-474a36413ac2",
   "metadata": {},
   "outputs": [
    {
     "name": "stdin",
     "output_type": "stream",
     "text": [
      "Enter a single character o\n"
     ]
    },
    {
     "name": "stdout",
     "output_type": "stream",
     "text": [
      "o is a vowel\n"
     ]
    }
   ],
   "source": [
    "#11. Write a Python program to test whether a passed letter is a vowel or not.\n",
    "y = input(\"Enter a single character\")\n",
    "if len(y) == 1:\n",
    "    if y in ['a','e','i','o','u']:\n",
    "        print(f\"{y} is a vowel\")\n",
    "    else:\n",
    "        print(f\"{y} is not a vowel\")\n",
    "else:\n",
    "    print(\"Invalid input. Please enter a single alphabet character.\")"
   ]
  },
  {
   "cell_type": "code",
   "execution_count": 6,
   "id": "2d89f55e-06f7-414d-a8a3-e028ddf815b3",
   "metadata": {},
   "outputs": [
    {
     "name": "stdin",
     "output_type": "stream",
     "text": [
      "Enter the value of a: 2\n",
      "Enter the value of b: 2\n",
      "Enter the value of c: 2\n"
     ]
    },
    {
     "name": "stdout",
     "output_type": "stream",
     "text": [
      "0\n"
     ]
    }
   ],
   "source": [
    "#12. Write a Python program to sum of three given integers. However, if two values are equal sum will be zero.\n",
    "a = int(input(\"Enter the value of a:\"))\n",
    "b = int(input(\"Enter the value of b:\"))\n",
    "c = int(input(\"Enter the value of c:\"))\n",
    "if a == b or b == c or c == a:\n",
    "    print(0)\n",
    "else:\n",
    "    print(a+b+c)"
   ]
  },
  {
   "cell_type": "code",
   "execution_count": 6,
   "id": "80e59377-0a87-45b8-82f7-c9f50002f204",
   "metadata": {},
   "outputs": [
    {
     "name": "stdin",
     "output_type": "stream",
     "text": [
      "Enter the value of p: 6\n",
      "Enter the value of q: 5\n"
     ]
    },
    {
     "name": "stdout",
     "output_type": "stream",
     "text": [
      "False\n"
     ]
    }
   ],
   "source": [
    "#13. Write a Python program that will return true if the two given integer values are equal or their sum or difference is 5.\n",
    "p = int(input(\"Enter the value of p:\"))\n",
    "q = int(input(\"Enter the value of q:\"))\n",
    "if p == q:\n",
    "    print(True)\n",
    "elif (p + q) == 5:\n",
    "    print(True)\n",
    "elif abs(p - q) == 5:\n",
    "    print(True)\n",
    "else:\n",
    "    print(False)"
   ]
  },
  {
   "cell_type": "code",
   "execution_count": 5,
   "id": "737a20ec-3e6a-4507-a81b-3af7321d48f7",
   "metadata": {},
   "outputs": [
    {
     "name": "stdin",
     "output_type": "stream",
     "text": [
      "Enter a positive integer:  1\n"
     ]
    },
    {
     "name": "stdout",
     "output_type": "stream",
     "text": [
      "The sum of the first 1 positive integers is: 1\n"
     ]
    }
   ],
   "source": [
    "#14. Write a python program to sum of the first n positive integers.\n",
    "n = int(input(\"Enter a positive integer: \"))\n",
    "if n > 0:\n",
    "    total = 0\n",
    "    for i in range(1, n + 1):\n",
    "        total += i\n",
    "    print(f\"The sum of the first {n} positive integers is: {total}\")\n",
    "else:\n",
    "    print(\"Please enter a positive integer.\")"
   ]
  },
  {
   "cell_type": "code",
   "execution_count": 12,
   "id": "35f51479-20f2-4e53-b941-4b042b02efdf",
   "metadata": {},
   "outputs": [
    {
     "name": "stdin",
     "output_type": "stream",
     "text": [
      "Enter a String:  Hello World\n"
     ]
    },
    {
     "name": "stdout",
     "output_type": "stream",
     "text": [
      "The length of the string is: 11\n"
     ]
    }
   ],
   "source": [
    "#15. Write a Python program to calculate the length of a string.\n",
    "user_input = input(\"Enter a String: \")\n",
    "length = len(user_input)\n",
    "print(\"The length of the string is:\",length)"
   ]
  },
  {
   "cell_type": "code",
   "execution_count": 15,
   "id": "94e42d8c-3e17-4a3a-a4a4-3f2be2c8908e",
   "metadata": {},
   "outputs": [
    {
     "name": "stdin",
     "output_type": "stream",
     "text": [
      "Enter a Characters: Hello World\n"
     ]
    },
    {
     "name": "stdout",
     "output_type": "stream",
     "text": [
      "Character frequencies:\n",
      "'H': 1\n",
      "'e': 1\n",
      "'l': 3\n",
      "'o': 2\n",
      "' ': 1\n",
      "'W': 1\n",
      "'r': 1\n",
      "'d': 1\n"
     ]
    }
   ],
   "source": [
    "#16. Write a Python program to count the number of characters (character frequency) in a string.\n",
    "character = input(\"Enter a Characters:\")\n",
    "char_frequency = {}\n",
    "for char in character:\n",
    "    if char in char_frequency:\n",
    "        char_frequency[char] +=1\n",
    "    else:\n",
    "        char_frequency[char] = 1\n",
    "print(\"Character frequencies:\")\n",
    "for char, count in char_frequency.items():\n",
    "    print(f\"'{char}': {count}\")"
   ]
  },
  {
   "cell_type": "code",
   "execution_count": 2,
   "id": "986b9ba6-09f8-4507-8cde-accbfb24528c",
   "metadata": {},
   "outputs": [],
   "source": [
    "#17. What are negative indexes and why are they used?\n",
    "# In python, negative indexes are used to access elements from the end of a list, tuple, string or other sequence types.\n",
    "# Negative indexes start from -1, which refers to the last element, -2 is the second last, and so on.\n",
    "# why?\n",
    "# 1. To easily access elements from the end of a sequence.\n",
    "# 2. More readable and concise tham calculating the positive index manually.\n",
    "# 3. Useful in loops or reverse traversals."
   ]
  },
  {
   "cell_type": "code",
   "execution_count": 17,
   "id": "fe0a489d-66e3-45b1-875b-b7761595dde9",
   "metadata": {},
   "outputs": [
    {
     "name": "stdin",
     "output_type": "stream",
     "text": [
      "Enter the main string:  hellohellohellohello\n",
      "Enter the substring to count:  lo\n"
     ]
    },
    {
     "name": "stdout",
     "output_type": "stream",
     "text": [
      "The substring 'lo' appears 4 time(s) in the string.\n"
     ]
    }
   ],
   "source": [
    "#18. Write a Python program to count occurrences of a substring in a string. \n",
    "string = input(\"Enter the main string: \")\n",
    "substring = input(\"Enter the substring to count: \")\n",
    "count = string.count(substring)\n",
    "print(f\"The substring '{substring}' appears {count} time(s) in the string.\")"
   ]
  },
  {
   "cell_type": "code",
   "execution_count": 18,
   "id": "6241df58-b176-43d7-a2f8-5d7dcff57df9",
   "metadata": {},
   "outputs": [
    {
     "name": "stdin",
     "output_type": "stream",
     "text": [
      "Enter a Sentence:   Python is easy and Python is powerful\n"
     ]
    },
    {
     "name": "stdout",
     "output_type": "stream",
     "text": [
      "Word Occurence in a Sentence: \n",
      "'python': 2\n",
      "'is': 2\n",
      "'easy': 1\n",
      "'and': 1\n",
      "'powerful': 1\n"
     ]
    }
   ],
   "source": [
    "#19. Write a Python program to count the occurrences of each word in a given sentence. \n",
    "sentence = input(\"Enter a Sentence: \")\n",
    "sentence = sentence.lower()\n",
    "words = sentence.split()\n",
    "word_count = {}\n",
    "for words in words:\n",
    "    if words in word_count:\n",
    "        word_count[words] += 1\n",
    "    else:\n",
    "        word_count[words] = 1\n",
    "print(\"Word Occurence in a Sentence: \")\n",
    "for word, count in word_count.items():\n",
    "    print(f\"'{word}': {count}\")"
   ]
  },
  {
   "cell_type": "code",
   "execution_count": 22,
   "id": "2b77c02b-8243-4bc6-ad3f-a6d321157da1",
   "metadata": {},
   "outputs": [
    {
     "name": "stdin",
     "output_type": "stream",
     "text": [
      "Enter first string: Apple\n",
      "Enter second string: Bnana\n"
     ]
    },
    {
     "name": "stdout",
     "output_type": "stream",
     "text": [
      "result: Bnple Apana\n"
     ]
    }
   ],
   "source": [
    "#20. Write a Python program to get a single string from two given strings,separated by a space and swap the first two characters of each string.\n",
    "str1 = input(\"Enter first string:\")\n",
    "str2 = input(\"Enter second string:\")\n",
    "if len(str1) >= 2 and len(str2) >= 2:\n",
    "    new_str1 = str2[:2] + str1[2:]\n",
    "    new_str2 = str1[:2] + str2[2:]\n",
    "    result = new_str1+\" \"+new_str2\n",
    "    print(\"result:\",result)\n",
    "else:\n",
    "    print(\"Both Strings must have atleast two characters.\")"
   ]
  },
  {
   "cell_type": "code",
   "execution_count": 32,
   "id": "6bcf4cce-aa31-4ca0-9521-cdc92c2b5593",
   "metadata": {},
   "outputs": [
    {
     "name": "stdin",
     "output_type": "stream",
     "text": [
      "Enter a String:  play\n"
     ]
    },
    {
     "name": "stdout",
     "output_type": "stream",
     "text": [
      "Modified string: playing\n"
     ]
    }
   ],
   "source": [
    "#21. Write a Python program to add 'in' at the end of a given string (length should be at least 3).\n",
    "# If the given string already ends with 'ing' then add 'ly' instead if the string length of the given string is less than 3, \n",
    "# leave it unchanged.\n",
    "text = input(\"Enter a String: \")\n",
    "if len(text)<3:\n",
    "    result = text\n",
    "elif text.endswith(\"ing\"):\n",
    "    result = text + \"ly\"\n",
    "else: \n",
    "    result = text + \"ing\"\n",
    "print(\"Modified string:\", result)"
   ]
  },
  {
   "cell_type": "code",
   "execution_count": 34,
   "id": "d29d639d-f958-4325-8b30-50966f3f0403",
   "metadata": {},
   "outputs": [
    {
     "name": "stdin",
     "output_type": "stream",
     "text": [
      "Enter a string:  play\n"
     ]
    },
    {
     "name": "stdout",
     "output_type": "stream",
     "text": [
      "yalp\n"
     ]
    }
   ],
   "source": [
    "#22. Write a Python function to reverses a string if its length is a multiple of 4.\n",
    "\n",
    "s = input(\"Enter a string: \")\n",
    "if len(s) % 4 == 0:\n",
    "    print(s[::-1])\n",
    "else:\n",
    "    print(s)"
   ]
  },
  {
   "cell_type": "code",
   "execution_count": 37,
   "id": "e7e28387-2223-4680-98f8-d47f61fdc77d",
   "metadata": {},
   "outputs": [
    {
     "name": "stdin",
     "output_type": "stream",
     "text": [
      "Enter a String:  Elephant\n"
     ]
    },
    {
     "name": "stdout",
     "output_type": "stream",
     "text": [
      "Result: Elnt\n"
     ]
    }
   ],
   "source": [
    "#23. Write a Python program to get a string made of the first 2 and the last 2 chars from a given a string. If the string length is less than 2, \n",
    "#return instead of the empty string.\n",
    "text1 = input(\"Enter a String: \")\n",
    "if len(text1) < 2:\n",
    "    result = \"Empty string\"\n",
    "else:\n",
    "    result = text1[:2] + text1[-2:]\n",
    "print(\"Result:\", result)"
   ]
  },
  {
   "cell_type": "code",
   "execution_count": 2,
   "id": "98411cb2-4b8b-4e35-9825-e51f983f3c17",
   "metadata": {},
   "outputs": [
    {
     "name": "stdout",
     "output_type": "stream",
     "text": [
      "Pu123rvi\n"
     ]
    }
   ],
   "source": [
    "#24. Write a Python function to insert a string in the middle of a string.\n",
    "original = \"Purvi\"\n",
    "insert = \"123\"\n",
    "\n",
    "middle = len(original)//2\n",
    "print(original[:middle] + insert + original [middle:])"
   ]
  },
  {
   "cell_type": "code",
   "execution_count": 4,
   "id": "656c7225-34f7-4963-a172-45e17dc571a2",
   "metadata": {},
   "outputs": [
    {
     "name": "stdout",
     "output_type": "stream",
     "text": [
      "[10, 20, 30]\n"
     ]
    }
   ],
   "source": [
    "#25. What is List? How will you reverse a list?\n",
    "# A list is an ordered collection of items, written in square brackets.\n",
    "my_list = [10,20,30]\n",
    "print(my_list)\n",
    "\n",
    "# How to reverse a list?\n",
    "# 1. Using slicing\n",
    "# 2. Using Reverse"
   ]
  },
  {
   "cell_type": "code",
   "execution_count": 11,
   "id": "66ecd35c-958c-46ff-97c7-0d739fcbaffd",
   "metadata": {},
   "outputs": [
    {
     "name": "stdout",
     "output_type": "stream",
     "text": [
      "[10, 20, 30]\n",
      "[10, 20]\n"
     ]
    }
   ],
   "source": [
    "#26. How will you remove last object from a list?\n",
    "# To remove the last object from a list, use:\n",
    "# my_list.pop()\n",
    "\n",
    "my_list1 = [10,20,30,40]\n",
    "my_list1.pop()\n",
    "print(my_list1)\n",
    "\n",
    "#remove- works only if you know the last value.\n",
    "my_list1.remove(30)\n",
    "print(my_list1)"
   ]
  },
  {
   "cell_type": "code",
   "execution_count": 14,
   "id": "bdfbd7e5-be1c-4db8-a750-03001e838c8c",
   "metadata": {},
   "outputs": [
    {
     "name": "stdout",
     "output_type": "stream",
     "text": [
      "25\n"
     ]
    }
   ],
   "source": [
    "#27. Suppose list1 is [2, 33, 222, 14, and 25], what is list1 [-1] ?\n",
    "# list[-1] refers to the last element in the list.\n",
    "list1 = [2,33,222,14,25]\n",
    "list2 = list1[-1]\n",
    "print(list2)"
   ]
  },
  {
   "cell_type": "code",
   "execution_count": 15,
   "id": "786b7301-b8cc-46af-bd99-c5cc1c6f130c",
   "metadata": {},
   "outputs": [
    {
     "name": "stdout",
     "output_type": "stream",
     "text": [
      "[1, 2, 3, [4, 5]]\n",
      "[1, 2, 3, 4, 5]\n"
     ]
    }
   ],
   "source": [
    "#28. Differentiate between append () and extend () methods?\n",
    "# append() = Adds a single item to the end\n",
    "list2 = [1,2,3]\n",
    "list2.append([4,5])\n",
    "print(list2)\n",
    "# extend() = Adds each item from another list\n",
    "list3 = [1,2,3]\n",
    "list3.extend([4,5])\n",
    "print(list3)"
   ]
  },
  {
   "cell_type": "code",
   "execution_count": 25,
   "id": "7b703c0d-d25d-4437-b9eb-42d85a183080",
   "metadata": {},
   "outputs": [
    {
     "name": "stdout",
     "output_type": "stream",
     "text": [
      "Largest: 25\n",
      "Smallest: 5\n",
      "Sum: 47\n"
     ]
    }
   ],
   "source": [
    "#29. Write a Python function to get the largest number, smallest num and sum of all from a list.\n",
    "\n",
    "def analyze_list(numbers):\n",
    "    largest = max(numbers)\n",
    "    smallest = min(numbers)\n",
    "    total = sum(numbers)\n",
    "    return largest, smallest, total\n",
    "my_list= [10,5,25,7]\n",
    "largest, smallest, total = analyze_list(my_list)\n",
    "print(\"Largest:\", largest)\n",
    "print(\"Smallest:\", smallest)\n",
    "print(\"Sum:\", total)"
   ]
  },
  {
   "cell_type": "code",
   "execution_count": 30,
   "id": "9463559f-401d-4899-a117-d3de23f3a893",
   "metadata": {},
   "outputs": [
    {
     "name": "stdout",
     "output_type": "stream",
     "text": [
      "[1, 2, 3, 1, 2, 3]\n",
      "True\n"
     ]
    }
   ],
   "source": [
    "#30. How will you compare two lists?\n",
    "#1. Using == operator - checks if lists are equal in content and order\n",
    "list4 = [1,2,3]\n",
    "list5 = [1,2,3]\n",
    "print(list4 + list5)\n",
    "\n",
    "#2. Using set() - ignores order, checks if elements are same\n",
    "print(set(list4) == set(list5))\n",
    "\n",
    "#3. Using loops - for custom or step by step comparison\n",
    "for a, b in zip(list4, list5):\n",
    "    if a != b:\n",
    "        print(\"Not Equal\")"
   ]
  },
  {
   "cell_type": "code",
   "execution_count": 1,
   "id": "5847acc0-bc08-4997-a97b-1b8b083cd125",
   "metadata": {},
   "outputs": [
    {
     "name": "stdout",
     "output_type": "stream",
     "text": [
      "count of strings with length >= 2 and same first and last character: 1\n"
     ]
    }
   ],
   "source": [
    "#31. Write a Python program to count the number of strings where the string length is 2 or more and the first and last character are same\n",
    "# from a given list of strings.\n",
    "\n",
    "def match_ends(words):\n",
    "    count = 0\n",
    "    for word in words:\n",
    "        if len(word) >= 2 and word[0] == word[-1]:\n",
    "            count += 1\n",
    "            return count\n",
    "\n",
    "string_list = ['abc','xyz','aba','1221','aa','hello','b']\n",
    "result = match_ends(string_list)\n",
    "print(\"count of strings with length >= 2 and same first and last character:\", result)"
   ]
  },
  {
   "cell_type": "code",
   "execution_count": 36,
   "id": "ad7e9c21-e6cd-49f2-961b-e4244624c360",
   "metadata": {},
   "outputs": [
    {
     "name": "stdout",
     "output_type": "stream",
     "text": [
      "List after removing duplicates: [1, 2, 3, 4, 5, 8, 9, 7]\n"
     ]
    }
   ],
   "source": [
    "#32. Write a Python program to remove duplicates from a list.\n",
    "def remove_duplicates_ordered(input_list):\n",
    "    unique = []\n",
    "    for item in input_list:\n",
    "        if item not in unique:\n",
    "            unique.append(item)\n",
    "    return unique \n",
    "my_list = [1,2,2,3,4,4,5,1,5,8,9,7,4,4]\n",
    "unique_list = remove_duplicates_ordered(my_list)\n",
    "print(\"List after removing duplicates:\" , unique_list)"
   ]
  },
  {
   "cell_type": "code",
   "execution_count": 41,
   "id": "5c983e2a-8850-48a5-9b1f-45d44961f956",
   "metadata": {},
   "outputs": [
    {
     "name": "stdout",
     "output_type": "stream",
     "text": [
      "The list is not empty.\n"
     ]
    }
   ],
   "source": [
    "#33. Write a Python program to check a list is empty or not.\n",
    "my_list = [1,2,3]\n",
    "def check_list_empty(my_list):\n",
    "    if not my_list:\n",
    "        print(\"The list is empty.\")\n",
    "    else:\n",
    "        print(\"The list is not empty.\")\n",
    "check_list_empty(my_list)"
   ]
  },
  {
   "cell_type": "code",
   "execution_count": 44,
   "id": "8edf0da4-f809-48c0-8c44-ce38d5e51160",
   "metadata": {},
   "outputs": [
    {
     "name": "stdout",
     "output_type": "stream",
     "text": [
      "True\n"
     ]
    }
   ],
   "source": [
    "#34. Write a Python function that takes two lists and returns true if they have at least one common member.\n",
    "list1 = [1,2,3,4]\n",
    "list2 = [5,6,7,4]\n",
    "\n",
    "def common_member(list1 , list2):\n",
    "    for item in list1:\n",
    "        if item in list2:\n",
    "            return True\n",
    "    return False\n",
    "print(common_member(list1 , list2))"
   ]
  },
  {
   "cell_type": "code",
   "execution_count": 50,
   "id": "c988f84a-e365-4e38-ab90-46b7a9839bc3",
   "metadata": {},
   "outputs": [
    {
     "name": "stdout",
     "output_type": "stream",
     "text": [
      "First 5 elements: [1, 4, 9, 16, 25]\n",
      "Last 5 elements: [676, 729, 784, 841, 900]\n"
     ]
    }
   ],
   "source": [
    "#35. Write a Python program to generate and print a list of first and last 5 elements where the values are square of numbers between 1 and 30.\n",
    "def square_list():\n",
    "    squares = [x**2 for x in range(1,31)]\n",
    "    first_five = squares[:5]\n",
    "    last_five = squares[-5:]\n",
    "    print(\"First 5 elements:\", first_five)\n",
    "    print(\"Last 5 elements:\", last_five)\n",
    "\n",
    "square_list()"
   ]
  },
  {
   "cell_type": "code",
   "execution_count": 54,
   "id": "3496890a-17f6-4a77-bf94-9c423978d114",
   "metadata": {},
   "outputs": [
    {
     "name": "stdout",
     "output_type": "stream",
     "text": [
      "[1, 2, 3, 4, 5]\n"
     ]
    }
   ],
   "source": [
    "#36. Write a Python function that takes a list and returns a new list with unique elements of the first list.\n",
    "original_list = [1,2,3,4,4,2,5]\n",
    "def unique_list(lst):\n",
    "    unique = []\n",
    "    for item in lst:\n",
    "        if item not in unique:\n",
    "            unique.append(item)\n",
    "    return unique\n",
    "print(unique_list(original_list))"
   ]
  },
  {
   "cell_type": "code",
   "execution_count": 58,
   "id": "35b1b719-d10a-45a1-8cda-73a38c62dee0",
   "metadata": {},
   "outputs": [
    {
     "name": "stdout",
     "output_type": "stream",
     "text": [
      "HELLO\n"
     ]
    }
   ],
   "source": [
    "#37. Write a Python program to convert a list of characters into a string.\n",
    "def list_of_string(char_list):\n",
    "    return ''.join(char_list)\n",
    "chars = ['H','E','L','L','O']\n",
    "result = list_of_string(chars)\n",
    "print(result)"
   ]
  },
  {
   "cell_type": "code",
   "execution_count": 60,
   "id": "1467e075-1247-49c5-8d9b-5ecfef336a5b",
   "metadata": {},
   "outputs": [
    {
     "name": "stdout",
     "output_type": "stream",
     "text": [
      "Randomly selected item: cherry\n"
     ]
    }
   ],
   "source": [
    "#38. Write a Python program to select an item randomly from a list.\n",
    "import random\n",
    "def select_random_item(my_list):\n",
    "    return random.choice(my_list)\n",
    "items = ['apple','banana','cherry','date','grape']\n",
    "random_item = select_random_item(items)\n",
    "print(\"Randomly selected item:\",random_item)"
   ]
  },
  {
   "cell_type": "code",
   "execution_count": 62,
   "id": "c6c6872a-fc0a-4b3f-ba71-d3a84e4e4011",
   "metadata": {},
   "outputs": [
    {
     "name": "stdout",
     "output_type": "stream",
     "text": [
      "Second smallest number is: 3\n"
     ]
    }
   ],
   "source": [
    "#39. Write a Python program to find the second smallest number in a list.\n",
    "def second_smallest(numbers):\n",
    "    unique_numbers = list(set(numbers))\n",
    "    if len(unique_numbers) < 2:\n",
    "        return \"List doesn't have a second smallest number\"\n",
    "    unique_numbers.sort()\n",
    "    return unique_numbers[1]\n",
    "my_list = [5,3,1,4,1]\n",
    "result = second_smallest(my_list)\n",
    "print(\"Second smallest number is:\", result)"
   ]
  },
  {
   "cell_type": "code",
   "execution_count": 2,
   "id": "cd3ca5f8-03d1-4c96-bcd8-ec5bebba90f3",
   "metadata": {},
   "outputs": [
    {
     "name": "stdout",
     "output_type": "stream",
     "text": [
      "Unique values: [1, 2, 3, 4, 5]\n"
     ]
    }
   ],
   "source": [
    "#40. Write a Python program to get unique values from a list.\n",
    "def get_unique_values(input_list):\n",
    "    unique_list = list(set(input_list))\n",
    "    return unique_list\n",
    "\n",
    "my_list = [1,2,2,3,4,4,5]\n",
    "unique_values = get_unique_values(my_list)\n",
    "print(\"Unique values:\",unique_values)"
   ]
  },
  {
   "cell_type": "code",
   "execution_count": 8,
   "id": "0a861d31-bcf9-4113-ae4f-7b1e9499113a",
   "metadata": {},
   "outputs": [
    {
     "name": "stdout",
     "output_type": "stream",
     "text": [
      "The list contains the sublist.\n"
     ]
    }
   ],
   "source": [
    "#41. Write a Python program to check whether a list contains a sub list.\n",
    "def contain_sublist(main_list,sub_list):\n",
    "    sub_length = len(sub_list)\n",
    "    for i in range(len(main_list) - sub_length + 1):\n",
    "        if main_list[i:i+sub_length] == sub_list:\n",
    "            return True\n",
    "        return False\n",
    "main_list = [1,2,3,4,5]\n",
    "sub_list = [1,2,3,4,5]\n",
    "if contain_sublist(main_list , sub_list):\n",
    "    print(\"The list contains the sublist.\")\n",
    "else:\n",
    "    print(\"The list does not contain the sublist.\")"
   ]
  },
  {
   "cell_type": "code",
   "execution_count": 9,
   "id": "f8838725-a140-4842-b496-b96b6014ec19",
   "metadata": {},
   "outputs": [
    {
     "name": "stdout",
     "output_type": "stream",
     "text": [
      "a = 10\n",
      "b = 20\n",
      "c = 30\n"
     ]
    }
   ],
   "source": [
    "#42. Write a Python program to split a list into different variables.\n",
    "my_list = [10,20,30]\n",
    "a, b, c = my_list\n",
    "print(\"a =\", a)\n",
    "print(\"b =\", b)\n",
    "print(\"c =\", c)"
   ]
  },
  {
   "cell_type": "code",
   "execution_count": 10,
   "id": "90a7f6ce-35eb-4920-8838-66632d1632ad",
   "metadata": {},
   "outputs": [],
   "source": [
    "#43. What is tuple? Difference between list and tuple.\n",
    "# A tuple is a collection of items that is:\n",
    "# Ordered (items have a fixed position),\n",
    "# Immutable (cannot be changed after creation)\n",
    "# can store different data types.\n",
    "# example:\n",
    "my_tuple = (10,20,30)\n",
    "\n",
    "#list vs tuple \n",
    "\n",
    "#list \n",
    "# Mutable - can be changed \n",
    "# Slower than tuples\n",
    "# Used for changing data\n",
    "# Uses more memory\n",
    "\n",
    "#Tuple\n",
    "# Immutable - Cannot be changed\n",
    "# Faster - better for fixed data\n",
    "# Used for fixed data (like coordinates)\n",
    "# Uses less memory"
   ]
  },
  {
   "cell_type": "code",
   "execution_count": 11,
   "id": "a4ff4efc-1901-421e-9df5-46f775d2c0ce",
   "metadata": {},
   "outputs": [
    {
     "name": "stdout",
     "output_type": "stream",
     "text": [
      "Tuple with different data types:\n",
      "(25, 'Purvi', 3.14, True, [1, 2, 3])\n"
     ]
    }
   ],
   "source": [
    "#44. Write a Python program to create a tuple with different data types.\n",
    "my_tuple = (25,\"Purvi\",3.14,True,[1,2,3])\n",
    "print(\"Tuple with different data types:\")\n",
    "print(my_tuple)"
   ]
  },
  {
   "cell_type": "code",
   "execution_count": 14,
   "id": "0d7afc0c-dead-4634-bd8c-3aa86d60f0ed",
   "metadata": {},
   "outputs": [
    {
     "name": "stdout",
     "output_type": "stream",
     "text": [
      "List1: [1, 2, 3]\n",
      "List2: ['a', 'b', 'c']\n"
     ]
    }
   ],
   "source": [
    "#45. Write a Python program to unzip a list of tuples into individual lists.\n",
    "zipped_list = [(1,'a'),(2,'b'),(3,'c')]\n",
    "\n",
    "list1 , list2 = zip(*zipped_list)\n",
    "list1 = list(list1)\n",
    "list2 = list(list2)\n",
    "print(\"List1:\",list1)\n",
    "print(\"List2:\",list2)"
   ]
  },
  {
   "cell_type": "code",
   "execution_count": 16,
   "id": "2e7607d7-2128-43b7-908b-97e1a15795ad",
   "metadata": {},
   "outputs": [
    {
     "name": "stdout",
     "output_type": "stream",
     "text": [
      "Converted Dictionary: {'a': 1, 'b': 2, 'c': 3}\n"
     ]
    }
   ],
   "source": [
    "#46. Write a Python program to convert a list of tuples into a dictionary.\n",
    "tuple_list = [('a',1),('b',2),('c',3)]\n",
    "my_dict = dict(tuple_list)\n",
    "print(\"Converted Dictionary:\",my_dict)"
   ]
  },
  {
   "cell_type": "code",
   "execution_count": 18,
   "id": "a2ba4f56-23be-4d27-bf7a-1d8041d61a8e",
   "metadata": {},
   "outputs": [
    {
     "name": "stdout",
     "output_type": "stream",
     "text": [
      "{'a': 1, 'b': 2, 'c': 3}\n"
     ]
    }
   ],
   "source": [
    "#47. How will you create a dictionary using tuples in python?\n",
    "# create a dictionary using tuples in python by using the dict() function. The tuple elements must be in the form of key-value pairs.\n",
    "\n",
    "# Using dict() with a list of tuples:\n",
    "list_of_tuples = [('a',1),('b',2),('c',3)]\n",
    "my_dict = dict(list_of_tuples)\n",
    "print(my_dict)"
   ]
  },
  {
   "cell_type": "code",
   "execution_count": 20,
   "id": "825353b1-a395-4653-b787-513d2205b4c8",
   "metadata": {},
   "outputs": [
    {
     "name": "stdout",
     "output_type": "stream",
     "text": [
      "Original Dictionary:\n",
      "{'Apple': 10, 'Banana': 5, 'Orange': 7, 'Mango': 3}\n",
      "\n",
      "Sorted Dictionary (Ascending by value):\n",
      "{'Mango': 3, 'Banana': 5, 'Orange': 7, 'Apple': 10}\n",
      "\n",
      "Sorted Dictionary (Descending by value):\n",
      "{'Apple': 10, 'Orange': 7, 'Banana': 5, 'Mango': 3}\n"
     ]
    }
   ],
   "source": [
    "#48. Write a Python script to sort (ascending and descending) a dictionary by value.\n",
    "my_dict = {'Apple': 10, 'Banana': 5, 'Orange': 7, 'Mango': 3}\n",
    "asc_sorted = dict(sorted(my_dict.items(),key = lambda item: item[1]))\n",
    "desc_sorted = dict(sorted(my_dict.items(),key = lambda item: item[1], reverse = True))\n",
    "\n",
    "print(\"Original Dictionary:\")\n",
    "print(my_dict)\n",
    "print(\"\\nSorted Dictionary (Ascending by value):\")\n",
    "print(asc_sorted)\n",
    "print(\"\\nSorted Dictionary (Descending by value):\")\n",
    "print(desc_sorted)"
   ]
  },
  {
   "cell_type": "code",
   "execution_count": 21,
   "id": "9a5b899c-44f9-4d32-a004-36e4be1e93c1",
   "metadata": {},
   "outputs": [
    {
     "name": "stdout",
     "output_type": "stream",
     "text": [
      "Concatenated Dictionary:\n",
      "{'a': 100, 'b': 200, 'c': 300, 'd': 400, 'e': 500, 'f': 600}\n"
     ]
    }
   ],
   "source": [
    "#49. Write a Python script to concatenate following dictionaries to create a new one.\n",
    "dict1 = {'a':100, 'b':200}\n",
    "dict2 = {'c':300, 'd':400}\n",
    "dict3 = {'e':500, 'f':600}\n",
    "new_dict = {**dict1, **dict2, **dict3}\n",
    "print(\"Concatenated Dictionary:\")\n",
    "print(new_dict)"
   ]
  },
  {
   "cell_type": "code",
   "execution_count": 26,
   "id": "e821d710-7227-4340-875a-f7b99316ee33",
   "metadata": {},
   "outputs": [
    {
     "name": "stdout",
     "output_type": "stream",
     "text": [
      "Key 'Bhumi' does Not exist in the dictionary.\n"
     ]
    }
   ],
   "source": [
    "#50. Write a Python script to check if a given key already exists in a dictionary.\n",
    "my_dict = {\n",
    "    \"Name\": \"Purvi\",\n",
    "    \"Age\": 22,\n",
    "    \"City\": \"Surat\"\n",
    "}\n",
    "key_to_check = \"Bhumi\"\n",
    "if key_to_check in my_dict:\n",
    "    print(f\"Key '{key_to_check}' exist in the dictionary.\")\n",
    "else:\n",
    "    print(f\"Key '{key_to_check}' does Not exist in the dictionary.\" )"
   ]
  },
  {
   "cell_type": "code",
   "execution_count": 28,
   "id": "0ee1fa80-dd34-4238-8667-fd99f442b3ba",
   "metadata": {},
   "outputs": [
    {
     "name": "stdout",
     "output_type": "stream",
     "text": [
      "Name\n",
      "Age\n",
      "City\n",
      "Purvi\n",
      "22\n",
      "Surat\n",
      "Name: Purvi\n",
      "Age: 22\n",
      "City: Surat\n"
     ]
    }
   ],
   "source": [
    "#51. How Do You Traverse Through a Dictionary Object in Python?\n",
    "# In python, you can traverse through a dictionary using a for loop. There are several ways to do it, depending on whether you want to access.\n",
    "# Only Keys:\n",
    "my_dict = {\"Name\": \"Purvi\", \"Age\": 22, \"City\": \"Surat\"}\n",
    "for key in my_dict:\n",
    "    print(key)\n",
    "\n",
    "# Values only:\n",
    "for value in my_dict.values():\n",
    "    print(value)\n",
    "\n",
    "# Keys and Values\n",
    "for key, value in my_dict.items():\n",
    "    print(f\"{key}: {value}\")"
   ]
  },
  {
   "cell_type": "code",
   "execution_count": 29,
   "id": "28c20f78-8a96-42d6-ba64-1439f81d04ea",
   "metadata": {},
   "outputs": [
    {
     "name": "stdout",
     "output_type": "stream",
     "text": [
      "Key Exists\n"
     ]
    }
   ],
   "source": [
    "#52. How Do You Check the Presence of a Key in A Dictionary?\n",
    "my_dict = {\"Name\": \"Purvi\", \"Age\": 22, \"City\": \"Surat\"}\n",
    "if \"Age\" in my_dict:\n",
    "    print(\"Key Exists\")\n",
    "else:\n",
    "    print(\"Key Does not Exists\")"
   ]
  },
  {
   "cell_type": "code",
   "execution_count": 31,
   "id": "232ea956-afbf-457d-8826-af495f0a6e69",
   "metadata": {},
   "outputs": [
    {
     "name": "stdout",
     "output_type": "stream",
     "text": [
      "Dictionary with keys from 1 to 15 and values as squares:\n",
      "{1: 1, 2: 2, 3: 3, 4: 4, 5: 5, 6: 6, 7: 7, 8: 8, 9: 9, 10: 10, 11: 11, 12: 12, 13: 13, 14: 14, 15: 15}\n"
     ]
    }
   ],
   "source": [
    "#53. Write a Python script to print a dictionary where the keys are numbers between 1 and 15.\n",
    "my_dict = {}\n",
    "for i in range(1,16):\n",
    "    my_dict[i] = i \n",
    "print(\"Dictionary with keys from 1 to 15 and values as squares:\")\n",
    "print(my_dict)    "
   ]
  },
  {
   "cell_type": "code",
   "execution_count": 33,
   "id": "3af975a6-0e58-4fc6-bbc1-b163c660c409",
   "metadata": {},
   "outputs": [
    {
     "name": "stdout",
     "output_type": "stream",
     "text": [
      "Some keys are missing from the dictionary.\n"
     ]
    }
   ],
   "source": [
    "#54. Write a Python program to check multiple keys exists in a dictionary.\n",
    "my_dict = {\"Name\": \"Alice\", \"Age\": 25, \"City\": \"New York\"}\n",
    "keys_to_check = [\"Name\",\"Arti\"]\n",
    "if all(key in my_dict for key in keys_to_check):\n",
    "    print(\"All keys exists in the dictionary.\")\n",
    "else:\n",
    "    print(\"Some keys are missing from the dictionary.\")"
   ]
  },
  {
   "cell_type": "code",
   "execution_count": 34,
   "id": "1a64237d-1118-4826-83f2-ebf82677ab9c",
   "metadata": {},
   "outputs": [
    {
     "name": "stdout",
     "output_type": "stream",
     "text": [
      "Merged Dictionary: {'a': 1, 'b': 2, 'c': 3, 'd': 4}\n"
     ]
    }
   ],
   "source": [
    "#55. Write a Python script to merge two Python dictionaries.\n",
    "dict1 = {'a':1, 'b':2}\n",
    "dict2 = {'c':3, 'd':4}\n",
    "dict1.update(dict2)\n",
    "print(\"Merged Dictionary:\",dict1)"
   ]
  },
  {
   "cell_type": "code",
   "execution_count": 38,
   "id": "be0984dc-c829-4ec5-a21b-cb89df188b55",
   "metadata": {},
   "outputs": [
    {
     "name": "stdout",
     "output_type": "stream",
     "text": [
      "Mapped Dictionary: {'a': 400, 'b': 400, 'c': 300, 'd': 400}\n"
     ]
    }
   ],
   "source": [
    "#56. Write a Python program to map two lists into a dictionary \n",
    "#Sample output: Counter ({'a': 400, 'b': 400,’d’: 400, 'c': 300})\n",
    "\n",
    "keys = ['a','b','c','d']\n",
    "values = [400,400,300,400]\n",
    "result = (dict(zip(keys, values)))\n",
    "print(\"Mapped Dictionary:\", result)"
   ]
  },
  {
   "cell_type": "code",
   "execution_count": 39,
   "id": "42d0f110-9840-4d82-b1f7-1a0d940d2931",
   "metadata": {},
   "outputs": [
    {
     "name": "stdout",
     "output_type": "stream",
     "text": [
      "Top 3 highest values in the dictionary:\n",
      "e: 100\n",
      "b: 90\n",
      "d: 70\n"
     ]
    }
   ],
   "source": [
    "#57. Write a Python program to find the highest 3 values in a dictionary.\n",
    "my_dict = {'a':50, 'b':90, 'c':30, 'd':70, 'e':100}\n",
    "sorted_items = sorted(my_dict.items(), key = lambda x:x[1], reverse = True)\n",
    "top_3 = sorted_items[:3]\n",
    "print(\"Top 3 highest values in the dictionary:\")\n",
    "for key, value in top_3:\n",
    "    print(f\"{key}: {value}\")"
   ]
  },
  {
   "cell_type": "code",
   "execution_count": 48,
   "id": "328cb8cc-43b2-4b6b-a7dd-3d02679ffb14",
   "metadata": {},
   "outputs": [
    {
     "name": "stdout",
     "output_type": "stream",
     "text": [
      "Counter({'item3': 750, 'item1': 400, 'item2': 300})\n"
     ]
    }
   ],
   "source": [
    "#58. Write a Python program to combine values in python list of dictionaries. \n",
    "# Sample data: [{'item': 'item1', 'amount': 400}, {'item': 'item2', 'amount': 300}, o {'item': 'item1', 'amount': 750}] \n",
    "# Expected Output:\n",
    "# Counter ({'item1': 1150, 'item2': 300})\n",
    "\n",
    "data = [\n",
    "    {'item':'item1','amount':400},\n",
    "    {'item':'item2','amount':300},\n",
    "    {'item':'item3','amount':750}\n",
    "]\n",
    "\n",
    "for entry in data:\n",
    "    result[entry['item']] = entry['amount']\n",
    "print(result)"
   ]
  },
  {
   "cell_type": "code",
   "execution_count": 49,
   "id": "988ac1b7-79da-4b1d-b36f-f1ac1cb6484c",
   "metadata": {},
   "outputs": [
    {
     "name": "stdout",
     "output_type": "stream",
     "text": [
      "{'H': 1, 'e': 1, 'l': 3, 'o': 2, 'W': 1, 'r': 1, 'd': 1}\n"
     ]
    }
   ],
   "source": [
    "#59. Write a Python program to create a dictionary from a string. \n",
    "# Note: Track the count of the letters from the string.\n",
    "text = 'Hello World'\n",
    "letter_count = {}\n",
    "for char in text:\n",
    "    if char.isalpha():\n",
    "        if char in letter_count:\n",
    "            letter_count[char] += 1\n",
    "        else:\n",
    "            letter_count[char] = 1\n",
    "print(letter_count)"
   ]
  },
  {
   "cell_type": "code",
   "execution_count": 50,
   "id": "982d954f-cb72-4981-b3fe-5ccc5fdc6532",
   "metadata": {},
   "outputs": [
    {
     "name": "stdout",
     "output_type": "stream",
     "text": [
      "{'w': 1, 'r': 2, 'e': 2, 's': 1, 'o': 1, 'u': 1, 'c': 1}\n"
     ]
    }
   ],
   "source": [
    "#60. Sample string:\n",
    "# 'w3resource' Expected output:\n",
    "# {'3': 1,’s’: 1, 'r': 2, 'u': 1, 'w': 1, 'c': 1, 'e': 2, 'o': 1}\n",
    "\n",
    "text = 'w3resource'\n",
    "letter_count = {}\n",
    "for char in text:\n",
    "    if char.isalpha():\n",
    "        if char in letter_count:\n",
    "            letter_count[char] += 1\n",
    "        else:\n",
    "            letter_count[char] = 1\n",
    "print(letter_count)"
   ]
  },
  {
   "cell_type": "code",
   "execution_count": 51,
   "id": "a2bd9e65-1f7d-42be-a0a4-f2d5f9ad3e18",
   "metadata": {},
   "outputs": [
    {
     "name": "stdout",
     "output_type": "stream",
     "text": [
      "Factorial of 5 is 120\n"
     ]
    }
   ],
   "source": [
    "#61. Write a Python function to calculate the factorial of a number (a nonnegative integer).\n",
    "def factorial(n):\n",
    "    if n == 0 or n == 1:\n",
    "        return 1\n",
    "    else:\n",
    "        return n * factorial(n-1)\n",
    "\n",
    "num = 5\n",
    "print(\"Factorial of\", num, \"is\", factorial(num))"
   ]
  },
  {
   "cell_type": "code",
   "execution_count": 54,
   "id": "92194377-f679-49bd-941b-7ebbbdcb424b",
   "metadata": {},
   "outputs": [
    {
     "name": "stdout",
     "output_type": "stream",
     "text": [
      "True\n",
      "False\n"
     ]
    }
   ],
   "source": [
    "#62. Write a Python function to check whether a number is in a given range.\n",
    "def is_in_range(num, start, end):\n",
    "    return start <= num <= end\n",
    "print(is_in_range(5,1,10))\n",
    "print(is_in_range(15,1,10))"
   ]
  },
  {
   "cell_type": "code",
   "execution_count": 55,
   "id": "d1c3c6ca-6dad-428c-bb09-75ac7a2e965e",
   "metadata": {},
   "outputs": [
    {
     "name": "stdout",
     "output_type": "stream",
     "text": [
      "28 is a perfect number\n"
     ]
    }
   ],
   "source": [
    "#63. Write a Python function to check whether a number is perfect or not.\n",
    "def is_perfect_number(n):\n",
    "    if n <= 0:\n",
    "        return False\n",
    "    sum_of_divisors = 0\n",
    "    for i in range(1,n):\n",
    "        if n % i == 0:\n",
    "            sum_of_divisors += i\n",
    "    return sum_of_divisors == n\n",
    "num = 28\n",
    "if is_perfect_number(num):\n",
    "    print(num, \"is a perfect number\")\n",
    "else:\n",
    "    print(num, \"is not a perfect number\")    "
   ]
  },
  {
   "cell_type": "code",
   "execution_count": 62,
   "id": "ea1ad754-49fd-4129-9d3f-0c025940cb10",
   "metadata": {},
   "outputs": [
    {
     "name": "stdout",
     "output_type": "stream",
     "text": [
      "True\n",
      "False\n",
      "True\n"
     ]
    }
   ],
   "source": [
    "#64. Write a Python function that checks whether a passed string is palindrome or not.\n",
    "def is_palindrome(string):\n",
    "    string = string.lower().replace(\" \", \" \")\n",
    "    return string == string[::-1]\n",
    "print(is_palindrome(\"Madam\"))\n",
    "print(is_palindrome(\"Hello\"))\n",
    "print(is_palindrome(\"nursesrun\"))"
   ]
  },
  {
   "cell_type": "code",
   "execution_count": 3,
   "id": "f347787e-a5f7-4a50-b717-a585abcec156",
   "metadata": {},
   "outputs": [],
   "source": [
    "#65. How Many Basic Types of Functions Are Available in Python?\n",
    "# In Python, there are two basic types of functions:\n",
    "# 1. Built-in-Functions:\n",
    "# These functions are predefined in python- it can be use without defining them yourself.\n",
    "# Examples: \n",
    "# print(), len(), type(), int(), float(), str(), sum(), max(), min(), sorted(), range(), input(), abs()\n",
    "\n",
    "# 2. User-defined Functions\n",
    "# These functions are created by ownself using def keyword.\n",
    "# Lambda Functions - single-line functions\n"
   ]
  },
  {
   "cell_type": "code",
   "execution_count": 1,
   "id": "2f6b7169-2673-491d-a2c1-d91abe30175f",
   "metadata": {},
   "outputs": [
    {
     "name": "stdout",
     "output_type": "stream",
     "text": [
      "30\n",
      "cherry\n"
     ]
    }
   ],
   "source": [
    "#66. How can you pick a random item from a list or tuple?\n",
    "\n",
    "import random\n",
    "my_list = [10,20,30,40,50]\n",
    "random_item = random.choice(my_list)\n",
    "print(random_item)\n",
    "\n",
    "my_tuple = ('apple', 'banana', 'cherry')\n",
    "random_item = random.choice(my_tuple)\n",
    "print(random_item)"
   ]
  },
  {
   "cell_type": "code",
   "execution_count": 2,
   "id": "d603947d-14ce-4cca-b0cb-c2f6647776d5",
   "metadata": {},
   "outputs": [
    {
     "name": "stdout",
     "output_type": "stream",
     "text": [
      "2\n"
     ]
    }
   ],
   "source": [
    "#67. How can you pick a random item from a range?\n",
    "random_item = random.choice(range(1,11))\n",
    "print(random_item)"
   ]
  },
  {
   "cell_type": "code",
   "execution_count": 7,
   "id": "5bf71126-396c-44bf-b44f-95148794a7eb",
   "metadata": {},
   "outputs": [
    {
     "name": "stdout",
     "output_type": "stream",
     "text": [
      "1\n"
     ]
    }
   ],
   "source": [
    "#68. How can you get a random number in python?\n",
    "random_number = random.randint(1,10)\n",
    "print(random_number)"
   ]
  },
  {
   "cell_type": "code",
   "execution_count": 9,
   "id": "ae54a374-3259-4293-b9b6-de6f355323ec",
   "metadata": {},
   "outputs": [
    {
     "name": "stdout",
     "output_type": "stream",
     "text": [
      "50\n"
     ]
    }
   ],
   "source": [
    "#69. How will you set the starting value in generating random numbers?\n",
    "random.seed(110)\n",
    "print(random.randint(1,100))"
   ]
  },
  {
   "cell_type": "code",
   "execution_count": 11,
   "id": "ea72781c-d3d4-41d5-b0fb-ee574179d461",
   "metadata": {},
   "outputs": [
    {
     "name": "stdout",
     "output_type": "stream",
     "text": [
      "[4, 2, 5, 1, 3, 6]\n"
     ]
    }
   ],
   "source": [
    "#70. How will you randomize the items of a list in place?\n",
    "# To randomize the items of a list in place in python, we can use \"shuffle\".\n",
    "# This modifies the original list (does not return a new list.)\n",
    "# The shuffling is done in place - no need to assign it to a new variable.\n",
    "my_list = [1,2,3,4,5,6]\n",
    "random.shuffle(my_list)\n",
    "print(my_list)"
   ]
  },
  {
   "cell_type": "code",
   "execution_count": 12,
   "id": "7510f64d-e4dc-4223-bd02-cb9c77537124",
   "metadata": {},
   "outputs": [],
   "source": [
    "#71. What is File function in python? What are keywords to create and write file.\n",
    "# File function in python: used to create, read, write, or append files.\n",
    "# \"r\" = Read (File must exist)\n",
    "# \"w\" = Write (creates or overwrites)\n",
    "# \"a\" = Append (adds to file)\n",
    "# \"x\" = create (error if exist"
   ]
  },
  {
   "cell_type": "code",
   "execution_count": 14,
   "id": "8a6c487d-1b93-4b53-99f6-964459ea169c",
   "metadata": {},
   "outputs": [],
   "source": [
    "#72. Write a Python program to read an entire text file.\n",
    "#with open(\"file.text\",'r') as file:\n",
    " #   content = file.read()\n",
    "#print(content)"
   ]
  },
  {
   "cell_type": "code",
   "execution_count": 23,
   "id": "ce383b4b-4707-4672-a83a-c7d48b66262d",
   "metadata": {},
   "outputs": [],
   "source": [
    "#73. Write a Python program to append text to a file and display the text.\n",
    "# Append text to the file\n",
    "#with open('file.text','a') as file:\n",
    "#    file.write(\"This is new appended text.\\n\")\n",
    "# Read and display the full content of the file\n",
    "#with open(\"file.txt\",'r') as file:\n",
    "#    content = file.read()\n",
    "#print(\"File content after appending:\")\n",
    "#print(content)"
   ]
  },
  {
   "cell_type": "code",
   "execution_count": 25,
   "id": "d2ea2f03-6a8e-487e-b742-7474350776b5",
   "metadata": {},
   "outputs": [],
   "source": [
    "#74. Write a Python program to read first n lines of a file.\n",
    "n = 3\n",
    "#with open(\"file.txt\",'r') as file:\n",
    "#    for i in range(n):\n",
    "#        line = file.readline()\n",
    "#        print(line.strip())"
   ]
  },
  {
   "cell_type": "code",
   "execution_count": 27,
   "id": "ae37ea74-718f-4014-9235-ac699e3e1bc3",
   "metadata": {},
   "outputs": [],
   "source": [
    "#75. Write a Python program to read last n lines of a file.\n",
    "# file_path = 'example.txt'\n",
    "n = 5\n",
    "# last_lines = read_last_n_lines(file_path, n)\n",
    "# print(f\"Last {n} lines of the file:\")\n",
    "# for line in last_lines:\n",
    "#    print(line,ends = '')"
   ]
  },
  {
   "cell_type": "code",
   "execution_count": 29,
   "id": "6a929656-33bf-4643-9ad0-34ee0b47f22c",
   "metadata": {},
   "outputs": [],
   "source": [
    "#76. Write a Python program to read a file line by line and store it into a list.\n",
    "# def read_file_to_list(filename):\n",
    "#   with open(filename, 'r') as file:\n",
    "#    lines = file.readlines()\n",
    "#     lines = [line.strip() for line in lines]\n",
    "#     return lines\n",
    "\n",
    "# file_path = \"example.txt\"\n",
    "# lines_list = read_file_to_list(file_path)\n",
    "# print(\"Contents of the file as a list:\")\n",
    "# print(lines_list)"
   ]
  },
  {
   "cell_type": "code",
   "execution_count": 30,
   "id": "115140dd-b07e-4d22-bee6-97b0af8f9590",
   "metadata": {},
   "outputs": [],
   "source": [
    "#77. Write a Python program to read a file line by line store it into a variable.\n",
    "# def read_file_to_string(filename):\n",
    "# content = \"\"\n",
    "# for line in file:\n",
    "# content += line\n",
    "# return content\n",
    "\n",
    "# file_path = \"example.txt\"\n",
    "# file_content = read_file_to_string(file_path)\n",
    "# print(\"Contents of the file:\")\n",
    "# print(file_content)"
   ]
  },
  {
   "cell_type": "code",
   "execution_count": 1,
   "id": "06237af8-3192-44cf-80fa-fac237219145",
   "metadata": {},
   "outputs": [
    {
     "name": "stdout",
     "output_type": "stream",
     "text": [
      "Longest Word(s): ['programming', 'educational']\n"
     ]
    }
   ],
   "source": [
    "#78. Write a python program to find the longest words.\n",
    "def find_longest_words(sentence):\n",
    "    words = sentence.split()\n",
    "    max_length = max(len(word) for word in words)\n",
    "    longest_words = [word for word in words if len(word) == max_length]\n",
    "    return longest_words\n",
    "\n",
    "text = \"Python programming is both fun and educational\"\n",
    "longest = find_longest_words(text)\n",
    "print(\"Longest Word(s):\", longest)"
   ]
  },
  {
   "cell_type": "code",
   "execution_count": 4,
   "id": "ed075a80-7b4a-4f3d-9882-830ca29a73f8",
   "metadata": {},
   "outputs": [],
   "source": [
    "#79. Write a Python program to count the number of lines in a text file.\n",
    "# def count_lines(filename):\n",
    "#        with open(filename,'r') as file:\n",
    "#            lines = file.readlines()\n",
    "#            return len(lines)\n",
    "    \n",
    "# file_name = \"example.txt\"\n",
    "# line_count = count_lines(filename)\n",
    "# print(f\"The number of lines in '{filename}' is: {line_count}\")"
   ]
  },
  {
   "cell_type": "code",
   "execution_count": 5,
   "id": "e6baa719-47fe-4742-8f65-41b9a717b044",
   "metadata": {},
   "outputs": [],
   "source": [
    "#80. Write a Python program to count the frequency of words in a file.\n",
    "# def count_word_frequency(filename):\n",
    "#     word_count = {}\n",
    "#     with open(filename,'r') as file:\n",
    "#       for line in file:\n",
    "#          words = line.lower().split()\n",
    "#          for word in words:\n",
    "#            word =''.join(char for char in word if char.isalnum())\n",
    "#            if word:\n",
    "#               word_count[word] = word_count.get(word,0) + 1\n",
    "#     return word_count\n",
    "\n",
    "# filename = 'example.txt'\n",
    "# word_freq = count_word_frequency(filename)\n",
    "\n",
    "# for word, freq in word_frq.items():\n",
    "#    print(f\"{word}: {freq}\")"
   ]
  },
  {
   "cell_type": "code",
   "execution_count": 1,
   "id": "0fa3c6bd-cee5-4ccb-9fa7-2599f5f79363",
   "metadata": {},
   "outputs": [],
   "source": [
    "#81. Write a Python program to write a list to a file.\n",
    "# def write_list_to_file(filename, data_list):\n",
    "#     with open(filename,'w') as file:\n",
    "#        for item in data_list:\n",
    "#            file.write(str(item)+ '\\n')\\\n",
    "\n",
    "# my_list = ['apple','banana','cherry','date']\n",
    "# filename = 'fruits.txt'\n",
    "# write_list_to_file(filename,my_list)\n",
    "\n",
    "#print(f\"List Written to '{filename}' successfully.\")"
   ]
  },
  {
   "cell_type": "code",
   "execution_count": 2,
   "id": "7e8414a2-1471-4e33-8770-cb356b0af2a7",
   "metadata": {},
   "outputs": [],
   "source": [
    "#82. Write a Python program to copy the contents of a file to another file.\n",
    "# def copy_file(source_file, destination_file):\n",
    "#     with open(source_file,'r') as src:\n",
    "#          content = src.read()\n",
    "#     with open(destination_file,'w') as dst:\n",
    "#          dst.write(content)\n",
    "\n",
    "# source = 'source.txt'\n",
    "# destination = 'copy.txt'\n",
    "# copy_file(source, destination)\n",
    "# print(f\"Contents copied from '{source}' to '{destination}' successfully.\")"
   ]
  },
  {
   "cell_type": "code",
   "execution_count": 5,
   "id": "aa12277e-635b-4499-8e89-6c5425d88db5",
   "metadata": {},
   "outputs": [],
   "source": [
    "#83. Explain Exception handling? What is an Error in Python?\n",
    "# Error in Python:\n",
    "# An error is a problem in a program that causes it to stop running.\n",
    "# Types include:\n",
    "# 1. Syntax Error: Wrong code structure (e.g. missing colon)\n",
    "# 2. Runtime Error: Happens while the program runs (e.g. dividing by zero)\n",
    "# Exception Handling:\n",
    "# Exceptions are runtime errors that can be handled using:"
   ]
  },
  {
   "cell_type": "code",
   "execution_count": 6,
   "id": "2f9c67f7-67dc-41a9-b821-2257cf8f9a4a",
   "metadata": {},
   "outputs": [],
   "source": [
    "#84. How many except statements can a try-except block have? Name Some built-in exception classes\n",
    "# A try-except block can have multiple except statements - there's no fixed limit. Each handles a specific exception.\n",
    "# Common built-in exception classes:\n",
    "# 1. ZeroDivisionError\n",
    "# 2. ValueError\n",
    "# 3. TypeError\n",
    "# 4. IndexError\n",
    "# 5. KeyError\n",
    "# 6. NameError\n",
    "# 7. FileNotFoundError\n",
    "# 8. AttributeError"
   ]
  },
  {
   "cell_type": "code",
   "execution_count": 7,
   "id": "33af3cd7-d3aa-49d1-988a-1f87308b4461",
   "metadata": {},
   "outputs": [],
   "source": [
    "#85. When will the else part of try-except-else be executed?\n",
    "# The else part of a try-except-else block is executed only if no exception occurs in the try block."
   ]
  },
  {
   "cell_type": "code",
   "execution_count": 9,
   "id": "60547a83-09fe-4f95-bb28-6dd6b7e7060b",
   "metadata": {},
   "outputs": [],
   "source": [
    "#86. Can one block of except statements handle multiple exception?\n",
    "# Yes, one except block can handle multiple exception by grouping them in parentheses using a tuple.\n",
    "# try:\n",
    "# except (TypeError, ValueError):\n",
    "#    print('Caught TypeError or ValueError')"
   ]
  },
  {
   "cell_type": "code",
   "execution_count": 10,
   "id": "e27a641b-42d2-4e22-9407-32d221e2fb7c",
   "metadata": {},
   "outputs": [],
   "source": [
    "#87. When is the finally block executed?\n",
    "# The finally block is always executed, whether an exception occurs or not - even if there's a return, break, or continue\n",
    "# in the try or except block."
   ]
  },
  {
   "cell_type": "code",
   "execution_count": 12,
   "id": "b78a9c08-ce2e-4e93-9bc4-213677977043",
   "metadata": {},
   "outputs": [
    {
     "name": "stdout",
     "output_type": "stream",
     "text": [
      "False\n"
     ]
    }
   ],
   "source": [
    "#88. What happens when „1‟== 1 is executed?\n",
    "# When the expression \"1\"==1 is executed in python:\n",
    "# It returns False\n",
    "# \"1\" is a string.\n",
    "# 1 is an integer.\n",
    "# Python does not perform implicit type conversion in comparisons using ==\n",
    "# So the types are different - Comparison fails.\n",
    "\n",
    "\n",
    "print(\"1\" == 1)"
   ]
  },
  {
   "cell_type": "code",
   "execution_count": 16,
   "id": "d3af2875-708c-4bb2-8dc2-3bde9385a86c",
   "metadata": {},
   "outputs": [
    {
     "name": "stdin",
     "output_type": "stream",
     "text": [
      "Enter a number: 9\n"
     ]
    },
    {
     "name": "stdout",
     "output_type": "stream",
     "text": [
      "Result is: 1.1111111111111112\n",
      "Execution completed.\n"
     ]
    }
   ],
   "source": [
    "#89. How Do You Handle Exceptions with Try/Except/Finally in Python? Explain with coding snippets.\n",
    "# Here's how you handle exceptions in Python using try, except, and finally blocks:\n",
    "# try: (code that may raise an exception)\n",
    "# except: (code to handle the exception)\n",
    "# finally: (code that runs no matter what)\n",
    "# Example\"\n",
    "\n",
    "try:\n",
    "    num = int(input(\"Enter a number:\"))\n",
    "    result = 10 / num\n",
    "    print(\"Result is:\", result)\n",
    "except ZeroDivisionError:\n",
    "    print(\"Error: Cannot divide by zero!\")\n",
    "except ValueError:\n",
    "    print(\"Error: Invalid input. Please enter a number.\")\n",
    "finally:\n",
    "    print(\"Execution completed.\")\n",
    "\n",
    "# try: Runs the code that might raise an exception\n",
    "# except: Catches and handles specific\n",
    "# finally: Runs no matter what - even if there's an error or a return."
   ]
  },
  {
   "cell_type": "code",
   "execution_count": 18,
   "id": "fd60edf6-a8e2-406c-b3e5-6cc8569f5412",
   "metadata": {},
   "outputs": [
    {
     "name": "stdin",
     "output_type": "stream",
     "text": [
      "Enter an odd number: 8\n"
     ]
    },
    {
     "name": "stdout",
     "output_type": "stream",
     "text": [
      "Error: This is not an odd number!\n"
     ]
    }
   ],
   "source": [
    "#90. Write python program that user to enter only odd numbers, else will raise an exception.\n",
    "\n",
    "try:\n",
    "    num = int(input(\"Enter an odd number:\"))\n",
    "    if num % 2 == 0:\n",
    "        raise ValueError(\"This is not an odd number!\")\n",
    "    print(\"Thank you! You entered an odd number.\")\n",
    "except ValueError as e:\n",
    "    print(\"Error:\",e)"
   ]
  },
  {
   "cell_type": "code",
   "execution_count": null,
   "id": "0bb23b7e-2ca1-4602-9a9b-ef90be1a9a68",
   "metadata": {},
   "outputs": [],
   "source": []
  }
 ],
 "metadata": {
  "kernelspec": {
   "display_name": "Python 3 (ipykernel)",
   "language": "python",
   "name": "python3"
  },
  "language_info": {
   "codemirror_mode": {
    "name": "ipython",
    "version": 3
   },
   "file_extension": ".py",
   "mimetype": "text/x-python",
   "name": "python",
   "nbconvert_exporter": "python",
   "pygments_lexer": "ipython3",
   "version": "3.13.3"
  }
 },
 "nbformat": 4,
 "nbformat_minor": 5
}
