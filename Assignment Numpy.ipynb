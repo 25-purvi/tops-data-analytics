{
 "cells": [
  {
   "cell_type": "code",
   "execution_count": 1,
   "id": "0ecd0b6f-578c-42d3-838c-81ae2154941e",
   "metadata": {},
   "outputs": [],
   "source": [
    "import numpy as np"
   ]
  },
  {
   "cell_type": "markdown",
   "id": "e2733419-3df1-47d9-be1d-aae8da48996a",
   "metadata": {},
   "source": [
    "1. How to Creating a 3x3 Identity Matrix with Float Data Type?"
   ]
  },
  {
   "cell_type": "code",
   "execution_count": 3,
   "id": "6b06cc9d-6a72-4f06-be31-0fd8284810de",
   "metadata": {},
   "outputs": [
    {
     "name": "stdout",
     "output_type": "stream",
     "text": [
      "[[11. 12. 13.]\n",
      " [14. 15. 16.]\n",
      " [17. 18. 19.]]\n"
     ]
    }
   ],
   "source": [
    "array1 = np.array([[11,12,13],[14,15,16],[17,18,19]], dtype=float)\n",
    "print(array1)"
   ]
  },
  {
   "cell_type": "markdown",
   "id": "28de5ee5-09a4-4120-bf07-0358ca1458ae",
   "metadata": {},
   "source": [
    "2. Create a 1D Array with Random Values between 0 and 1."
   ]
  },
  {
   "cell_type": "code",
   "execution_count": 6,
   "id": "4aeb1b00-fee9-4913-a74f-0251361d8cd4",
   "metadata": {},
   "outputs": [
    {
     "name": "stdout",
     "output_type": "stream",
     "text": [
      "[0.25209292 0.74778642 0.54746966 0.47427411 0.15269482 0.28666118\n",
      " 0.13836938 0.59673239]\n"
     ]
    }
   ],
   "source": [
    "array2 = np.random.rand(8)\n",
    "print(array2)"
   ]
  },
  {
   "cell_type": "markdown",
   "id": "e6457d18-ce10-4440-af67-54379f48dfc8",
   "metadata": {},
   "source": [
    "3. Create a 2D Array with Random Integer Values."
   ]
  },
  {
   "cell_type": "code",
   "execution_count": 9,
   "id": "e0d4ac7f-75f2-4523-a91d-c58515533326",
   "metadata": {},
   "outputs": [
    {
     "name": "stdout",
     "output_type": "stream",
     "text": [
      "[[ 0 75 28]\n",
      " [93 14 50]]\n"
     ]
    }
   ],
   "source": [
    "array3 = np.random.randint(0,100,size=(2,3))\n",
    "print(array3)"
   ]
  },
  {
   "cell_type": "markdown",
   "id": "d24630fb-06c0-44eb-abe9-8c9a9b23f8f8",
   "metadata": {},
   "source": [
    "4. Creating an Array Using a Custom Function."
   ]
  },
  {
   "cell_type": "code",
   "execution_count": 11,
   "id": "a74f7112-d5ab-410b-9211-9ffb9c504011",
   "metadata": {},
   "outputs": [
    {
     "name": "stdout",
     "output_type": "stream",
     "text": [
      "[[0 1 2 3]\n",
      " [1 2 3 4]\n",
      " [2 3 4 5]]\n"
     ]
    }
   ],
   "source": [
    "def custom_func(i,j):\n",
    "    return i+j\n",
    "array = np.fromfunction(custom_func,(3,4),dtype=int)\n",
    "print(array)"
   ]
  },
  {
   "cell_type": "markdown",
   "id": "6409fee0-3461-44e9-bc03-c763c7c8b90f",
   "metadata": {},
   "source": [
    "5. Reshaping a 1D Array into a 2D Array."
   ]
  },
  {
   "cell_type": "code",
   "execution_count": 14,
   "id": "fd4552a7-0201-4e40-8a64-ce77e8d3193a",
   "metadata": {},
   "outputs": [
    {
     "name": "stdout",
     "output_type": "stream",
     "text": [
      "[ 0  1  2  3  4  5  6  7  8  9 10 11]\n",
      "[[ 0  1  2  3]\n",
      " [ 4  5  6  7]\n",
      " [ 8  9 10 11]]\n"
     ]
    }
   ],
   "source": [
    "array1 = np.arange(12)\n",
    "array2 = array1.reshape(3,4)\n",
    "print(array1)\n",
    "print(array2)"
   ]
  },
  {
   "cell_type": "markdown",
   "id": "28594abf-f78c-4ea5-8e75-268b4e14d524",
   "metadata": {},
   "source": [
    "6. How to Creating a 3x3 Array of Ones?"
   ]
  },
  {
   "cell_type": "code",
   "execution_count": 16,
   "id": "ef8ad216-f4d6-4f13-8560-65a687e043dd",
   "metadata": {},
   "outputs": [
    {
     "name": "stdout",
     "output_type": "stream",
     "text": [
      "[[1. 1. 1.]\n",
      " [1. 1. 1.]\n",
      " [1. 1. 1.]]\n"
     ]
    }
   ],
   "source": [
    "array = np.ones((3,3))\n",
    "print(array)"
   ]
  },
  {
   "cell_type": "markdown",
   "id": "338ea846-cd8c-49b9-b135-3f9de63529d7",
   "metadata": {},
   "source": [
    "7. How to get the common items between two pythons \n",
    "NumPy? Input: \n",
    "a = np. array ([1,2,3,2,3,4,3,4,5,6]) \n",
    "b = np. array ([7,2,10,2,7,4,9,4,9,8]) \n",
    "Expected Output: \n",
    "array ([2, 4])"
   ]
  },
  {
   "cell_type": "code",
   "execution_count": 18,
   "id": "4ba00af4-996d-4235-b77e-27d4dc0fbbe1",
   "metadata": {},
   "outputs": [
    {
     "name": "stdout",
     "output_type": "stream",
     "text": [
      "[2 4]\n"
     ]
    }
   ],
   "source": [
    "a = np.array([1,2,3,2,3,4,3,4,5,6])\n",
    "b = np.array([7,2,10,2,7,4,9,4,9,8])\n",
    "common = np.intersect1d(a,b)\n",
    "print(common)"
   ]
  },
  {
   "cell_type": "markdown",
   "id": "a7016b0b-0d6a-4cd1-a7ea-57c02ed3a13d",
   "metadata": {},
   "source": [
    "8. From array a remove all items present in \n",
    "array b Input: \n",
    "a = np. array ([1,2,3,4,5]) \n",
    "b = np. array ([5,6,7,8,9]) \n",
    "Expected Output: \n",
    "array ([1,2,3,4]"
   ]
  },
  {
   "cell_type": "code",
   "execution_count": 19,
   "id": "f1af3222-c669-43a6-8665-d715522f7dfa",
   "metadata": {},
   "outputs": [
    {
     "name": "stdout",
     "output_type": "stream",
     "text": [
      "[1 2 3 4]\n"
     ]
    }
   ],
   "source": [
    "a = np. array ([1,2,3,4,5]) \n",
    "b = np. array ([5,6,7,8,9])\n",
    "result = np.setdiff1d(a,b)\n",
    "print(result)"
   ]
  },
  {
   "cell_type": "markdown",
   "id": "dc6e4b37-76e3-4955-837e-73c3851304c9",
   "metadata": {},
   "source": [
    "9. Limit the number of items printed in python NumPy array a to a maximum of \n",
    "6 elements. \n",
    "a = np. arrange (15) \n",
    "Expected Output: \n",
    "array ([ 0, 1, 2, ..., 12, 13, 14]"
   ]
  },
  {
   "cell_type": "code",
   "execution_count": 21,
   "id": "f0531c2c-5025-4c24-aef7-3add23a32f03",
   "metadata": {},
   "outputs": [
    {
     "name": "stdout",
     "output_type": "stream",
     "text": [
      "[ 0  1  2 ... 12 13 14]\n"
     ]
    }
   ],
   "source": [
    "a = np.arange (15)\n",
    "np.set_printoptions(threshold = 6)\n",
    "print(a)"
   ]
  },
  {
   "cell_type": "markdown",
   "id": "fc0a5329-272e-4555-abed-a69689297571",
   "metadata": {},
   "source": [
    "10. Drop all nan values from a 1D NumPy \n",
    "array Input: \n",
    "np. array ([1,2,3, np.nan,5,6,7, np.nan]) \n",
    "Desired Output: \n",
    "array ([ 1., 2., 3., 5., 6., 7.])"
   ]
  },
  {
   "cell_type": "code",
   "execution_count": 23,
   "id": "67020337-cd9c-43eb-9f9c-a1a41b652eb6",
   "metadata": {},
   "outputs": [
    {
     "name": "stdout",
     "output_type": "stream",
     "text": [
      "[1. 2. 3. 5. 6. 7.]\n"
     ]
    }
   ],
   "source": [
    "arr = np. array ([1,2,3, np.nan,5,6,7, np.nan])\n",
    "clean_arr = arr[~np.isnan(arr)]\n",
    "print(clean_arr)"
   ]
  },
  {
   "cell_type": "markdown",
   "id": "2c780c79-248c-4ca3-a78c-d2be5cd9a1eb",
   "metadata": {},
   "source": [
    "11. Question: Create a 1D NumPy array of the first 20 natural numbers and a \n",
    "2D NumPy array of shape (4, 5) with values ranging from 1 to 20."
   ]
  },
  {
   "cell_type": "code",
   "execution_count": 24,
   "id": "83a7e732-eae9-4745-8097-9b37de4830a9",
   "metadata": {},
   "outputs": [
    {
     "name": "stdout",
     "output_type": "stream",
     "text": [
      "1D array:\n",
      "[ 1  2  3 ... 18 19 20]\n",
      "2D array:\n",
      "[[ 1  2  3  4  5]\n",
      " [ 6  7  8  9 10]\n",
      " [11 12 13 14 15]\n",
      " [16 17 18 19 20]]\n"
     ]
    }
   ],
   "source": [
    "array1 = np.arange(1,21)\n",
    "print(\"1D array:\")\n",
    "print(array1)\n",
    "\n",
    "array2 = np.arange(1,21).reshape(4,5)\n",
    "print(\"2D array:\")\n",
    "print(array2)"
   ]
  },
  {
   "cell_type": "markdown",
   "id": "73e84df0-cd29-4ac0-8e0c-6894c36651ec",
   "metadata": {},
   "source": [
    "12. Question: Given a 3D NumPy array of shape (2, 3, 4), find its shape, size, \n",
    "number of dimensions, and data type. Change its data type to float64 and verify \n",
    "the change."
   ]
  },
  {
   "cell_type": "code",
   "execution_count": 25,
   "id": "b0ee227a-c52e-413b-bad3-bb57a7832611",
   "metadata": {},
   "outputs": [
    {
     "name": "stdout",
     "output_type": "stream",
     "text": [
      "[[[ 0  1  2  3]\n",
      "  [ 4  5  6  7]\n",
      "  [ 8  9 10 11]]\n",
      "\n",
      " [[12 13 14 15]\n",
      "  [16 17 18 19]\n",
      "  [20 21 22 23]]]\n",
      "(2, 3, 4)\n",
      "24\n",
      "3\n",
      "int64\n",
      "float64\n",
      "[[[ 0.  1.  2.  3.]\n",
      "  [ 4.  5.  6.  7.]\n",
      "  [ 8.  9. 10. 11.]]\n",
      "\n",
      " [[12. 13. 14. 15.]\n",
      "  [16. 17. 18. 19.]\n",
      "  [20. 21. 22. 23.]]]\n"
     ]
    }
   ],
   "source": [
    "array = np.arange(24).reshape(2,3,4)\n",
    "print(array)\n",
    "print(array.shape)\n",
    "print(array.size)\n",
    "print(array.ndim)\n",
    "print(array.dtype)\n",
    "\n",
    "array_float = array.astype(np.float64)\n",
    "print(array_float.dtype)\n",
    "print(array_float)"
   ]
  },
  {
   "cell_type": "markdown",
   "id": "9c4d3066-b7c3-4bee-9828-30b50854ca20",
   "metadata": {},
   "source": [
    "13. Question: Reshape a 1D array of 12 elements into a 3x4 2D array and then \n",
    "flatten it back into a 1D array using ravel (). Verify that the flattened array \n",
    "matches the original"
   ]
  },
  {
   "cell_type": "code",
   "execution_count": 3,
   "id": "4220bec3-26f7-4c80-9e4d-eb50d8092adc",
   "metadata": {},
   "outputs": [
    {
     "name": "stdout",
     "output_type": "stream",
     "text": [
      "Original 1D Array: [ 1  2  3  4  5  6  7  8  9 10 11 12]\n",
      "\n",
      "Reshaped 2D Array (3X4)\n",
      "[[ 1  2  3  4]\n",
      " [ 5  6  7  8]\n",
      " [ 9 10 11 12]]\n",
      "\n",
      "Flattened Array using ravel():\n",
      "[ 1  2  3  4  5  6  7  8  9 10 11 12]\n",
      "\n",
      "Does the flattened array match the original? ->  True\n"
     ]
    }
   ],
   "source": [
    "original_array = np.array([1,2,3,4,5,6,7,8,9,10,11,12])\n",
    "print(\"Original 1D Array:\",original_array)\n",
    "\n",
    "reshaped_array = original_array.reshape(3,4)\n",
    "print(\"\\nReshaped 2D Array (3X4)\")\n",
    "print(reshaped_array)\n",
    "\n",
    "flattened_array = reshaped_array.ravel()\n",
    "print(\"\\nFlattened Array using ravel():\")\n",
    "print(flattened_array)\n",
    "\n",
    "is_equal = np.array_equal(original_array,flattened_array)\n",
    "print(\"\\nDoes the flattened array match the original? -> \", is_equal)"
   ]
  },
  {
   "cell_type": "markdown",
   "id": "ddd482bf-c37d-40c9-8ad6-16a645d8c812",
   "metadata": {},
   "source": [
    "14. Question: Given two arrays, a = np. array ([1, 2, 3]) and b = np. array ([4, \n",
    "5, 6]), perform element-wise addition, subtraction, multiplication, and \n",
    "division. Explain the behavior when dividing by zero."
   ]
  },
  {
   "cell_type": "code",
   "execution_count": 6,
   "id": "181d32ba-91d0-44a7-a49e-49e7f2f5e505",
   "metadata": {},
   "outputs": [
    {
     "data": {
      "text/plain": [
       "array([0.25, 0.4 , 0.5 ])"
      ]
     },
     "execution_count": 6,
     "metadata": {},
     "output_type": "execute_result"
    }
   ],
   "source": [
    "a = np.array([1,2,3])\n",
    "b = np.array([4,5,6])\n",
    "a + b\n",
    "a - b\n",
    "a * b\n",
    "a / b"
   ]
  },
  {
   "cell_type": "code",
   "execution_count": 7,
   "id": "e998740e-4828-4093-9c00-7ee06a12fb97",
   "metadata": {},
   "outputs": [
    {
     "name": "stderr",
     "output_type": "stream",
     "text": [
      "C:\\Users\\PURVI PAWAR\\AppData\\Local\\Temp\\ipykernel_664\\1060672576.py:4: RuntimeWarning: divide by zero encountered in divide\n",
      "  a / c\n"
     ]
    },
    {
     "data": {
      "text/plain": [
       "array([ 1., inf,  1.])"
      ]
     },
     "execution_count": 7,
     "metadata": {},
     "output_type": "execute_result"
    }
   ],
   "source": [
    "#Division by Zero Behavior:\n",
    "#Dividing by an array that has zero:\n",
    "c = np.array([1,0,3])\n",
    "a / c\n",
    "# Numpy does not raise an error when dividing by zero.\n",
    "# It returns inf (infinity) or nan (not a number) where appropriate.\n",
    "# It also raises a warning, which can be suppressed or handled if needed."
   ]
  },
  {
   "cell_type": "code",
   "execution_count": null,
   "id": "78e62732-ae50-4f63-80d8-5ca1cf92a370",
   "metadata": {},
   "outputs": [],
   "source": []
  }
 ],
 "metadata": {
  "kernelspec": {
   "display_name": "Python 3 (ipykernel)",
   "language": "python",
   "name": "python3"
  },
  "language_info": {
   "codemirror_mode": {
    "name": "ipython",
    "version": 3
   },
   "file_extension": ".py",
   "mimetype": "text/x-python",
   "name": "python",
   "nbconvert_exporter": "python",
   "pygments_lexer": "ipython3",
   "version": "3.13.3"
  }
 },
 "nbformat": 4,
 "nbformat_minor": 5
}
